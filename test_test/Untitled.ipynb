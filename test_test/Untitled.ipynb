{
 "cells": [
  {
   "cell_type": "code",
   "execution_count": 1,
   "id": "bea3e2ab",
   "metadata": {},
   "outputs": [],
   "source": [
    "import json\n",
    "import requests\n",
    "from keras.models import Sequential\n",
    "from keras.layers import Activation, Dense, Dropout, LSTM\n",
    "import matplotlib.pyplot as plt\n",
    "import numpy as np\n",
    "import pandas as pd\n",
    "import seaborn as sns\n",
    "from sklearn.metrics import mean_absolute_error"
   ]
  },
  {
   "cell_type": "code",
   "execution_count": 2,
   "id": "91da3ea0",
   "metadata": {},
   "outputs": [],
   "source": [
    "endpoint = 'https://min-api.cryptocompare.com/data/histoday'\n",
    "res = requests.get(endpoint + '?fsym=BTC&tsym=USD&limit=500')\n",
    "hist = pd.DataFrame(json.loads(res.content)['Data'])\n",
    "hist = hist.set_index('time')\n",
    "hist.index = pd.to_datetime(hist.index, unit='s')\n",
    "target_col = 'close'\n",
    "hist = hist[['open', 'high', 'low', 'close']]"
   ]
  },
  {
   "cell_type": "code",
   "execution_count": 6,
   "id": "4d9a74bb",
   "metadata": {},
   "outputs": [
    {
     "data": {
      "text/html": [
       "<div>\n",
       "<style scoped>\n",
       "    .dataframe tbody tr th:only-of-type {\n",
       "        vertical-align: middle;\n",
       "    }\n",
       "\n",
       "    .dataframe tbody tr th {\n",
       "        vertical-align: top;\n",
       "    }\n",
       "\n",
       "    .dataframe thead th {\n",
       "        text-align: right;\n",
       "    }\n",
       "</style>\n",
       "<table border=\"1\" class=\"dataframe\">\n",
       "  <thead>\n",
       "    <tr style=\"text-align: right;\">\n",
       "      <th></th>\n",
       "      <th>open</th>\n",
       "      <th>high</th>\n",
       "      <th>low</th>\n",
       "      <th>close</th>\n",
       "    </tr>\n",
       "    <tr>\n",
       "      <th>time</th>\n",
       "      <th></th>\n",
       "      <th></th>\n",
       "      <th></th>\n",
       "      <th></th>\n",
       "    </tr>\n",
       "  </thead>\n",
       "  <tbody>\n",
       "    <tr>\n",
       "      <th>2020-08-26</th>\n",
       "      <td>11330.56</td>\n",
       "      <td>11542.65</td>\n",
       "      <td>11259.23</td>\n",
       "      <td>11466.89</td>\n",
       "    </tr>\n",
       "    <tr>\n",
       "      <th>2020-08-27</th>\n",
       "      <td>11466.89</td>\n",
       "      <td>11591.64</td>\n",
       "      <td>11135.52</td>\n",
       "      <td>11331.02</td>\n",
       "    </tr>\n",
       "    <tr>\n",
       "      <th>2020-08-28</th>\n",
       "      <td>11331.02</td>\n",
       "      <td>11553.81</td>\n",
       "      <td>11289.07</td>\n",
       "      <td>11535.21</td>\n",
       "    </tr>\n",
       "    <tr>\n",
       "      <th>2020-08-29</th>\n",
       "      <td>11535.21</td>\n",
       "      <td>11585.98</td>\n",
       "      <td>11433.80</td>\n",
       "      <td>11480.48</td>\n",
       "    </tr>\n",
       "    <tr>\n",
       "      <th>2020-08-30</th>\n",
       "      <td>11480.48</td>\n",
       "      <td>11718.98</td>\n",
       "      <td>11470.07</td>\n",
       "      <td>11716.54</td>\n",
       "    </tr>\n",
       "    <tr>\n",
       "      <th>...</th>\n",
       "      <td>...</td>\n",
       "      <td>...</td>\n",
       "      <td>...</td>\n",
       "      <td>...</td>\n",
       "    </tr>\n",
       "    <tr>\n",
       "      <th>2022-01-04</th>\n",
       "      <td>46450.79</td>\n",
       "      <td>47529.48</td>\n",
       "      <td>45587.91</td>\n",
       "      <td>45824.54</td>\n",
       "    </tr>\n",
       "    <tr>\n",
       "      <th>2022-01-05</th>\n",
       "      <td>45824.54</td>\n",
       "      <td>47067.18</td>\n",
       "      <td>42510.86</td>\n",
       "      <td>43432.51</td>\n",
       "    </tr>\n",
       "    <tr>\n",
       "      <th>2022-01-06</th>\n",
       "      <td>43432.51</td>\n",
       "      <td>43779.23</td>\n",
       "      <td>42468.76</td>\n",
       "      <td>43094.54</td>\n",
       "    </tr>\n",
       "    <tr>\n",
       "      <th>2022-01-07</th>\n",
       "      <td>43094.54</td>\n",
       "      <td>43138.79</td>\n",
       "      <td>40750.42</td>\n",
       "      <td>41543.79</td>\n",
       "    </tr>\n",
       "    <tr>\n",
       "      <th>2022-01-08</th>\n",
       "      <td>41543.79</td>\n",
       "      <td>42229.62</td>\n",
       "      <td>41481.67</td>\n",
       "      <td>41633.48</td>\n",
       "    </tr>\n",
       "  </tbody>\n",
       "</table>\n",
       "<p>501 rows × 4 columns</p>\n",
       "</div>"
      ],
      "text/plain": [
       "                open      high       low     close\n",
       "time                                              \n",
       "2020-08-26  11330.56  11542.65  11259.23  11466.89\n",
       "2020-08-27  11466.89  11591.64  11135.52  11331.02\n",
       "2020-08-28  11331.02  11553.81  11289.07  11535.21\n",
       "2020-08-29  11535.21  11585.98  11433.80  11480.48\n",
       "2020-08-30  11480.48  11718.98  11470.07  11716.54\n",
       "...              ...       ...       ...       ...\n",
       "2022-01-04  46450.79  47529.48  45587.91  45824.54\n",
       "2022-01-05  45824.54  47067.18  42510.86  43432.51\n",
       "2022-01-06  43432.51  43779.23  42468.76  43094.54\n",
       "2022-01-07  43094.54  43138.79  40750.42  41543.79\n",
       "2022-01-08  41543.79  42229.62  41481.67  41633.48\n",
       "\n",
       "[501 rows x 4 columns]"
      ]
     },
     "execution_count": 6,
     "metadata": {},
     "output_type": "execute_result"
    }
   ],
   "source": [
    "hist"
   ]
  },
  {
   "cell_type": "code",
   "execution_count": 7,
   "id": "4372865d",
   "metadata": {},
   "outputs": [],
   "source": [
    "def train_test_split(df, test_size=0.2):\n",
    "    split_row = len(df) - int(test_size * len(df))\n",
    "    train_data = df.iloc[:split_row]\n",
    "    test_data = df.iloc[split_row:]\n",
    "    return train_data, test_data"
   ]
  },
  {
   "cell_type": "code",
   "execution_count": 8,
   "id": "8bd801c7",
   "metadata": {},
   "outputs": [
    {
     "data": {
      "text/html": [
       "<div>\n",
       "<style scoped>\n",
       "    .dataframe tbody tr th:only-of-type {\n",
       "        vertical-align: middle;\n",
       "    }\n",
       "\n",
       "    .dataframe tbody tr th {\n",
       "        vertical-align: top;\n",
       "    }\n",
       "\n",
       "    .dataframe thead th {\n",
       "        text-align: right;\n",
       "    }\n",
       "</style>\n",
       "<table border=\"1\" class=\"dataframe\">\n",
       "  <thead>\n",
       "    <tr style=\"text-align: right;\">\n",
       "      <th></th>\n",
       "      <th>open</th>\n",
       "      <th>high</th>\n",
       "      <th>low</th>\n",
       "      <th>close</th>\n",
       "    </tr>\n",
       "    <tr>\n",
       "      <th>time</th>\n",
       "      <th></th>\n",
       "      <th></th>\n",
       "      <th></th>\n",
       "      <th></th>\n",
       "    </tr>\n",
       "  </thead>\n",
       "  <tbody>\n",
       "    <tr>\n",
       "      <th>2021-10-01</th>\n",
       "      <td>43829.34</td>\n",
       "      <td>48470.13</td>\n",
       "      <td>43304.82</td>\n",
       "      <td>48164.35</td>\n",
       "    </tr>\n",
       "    <tr>\n",
       "      <th>2021-10-02</th>\n",
       "      <td>48164.35</td>\n",
       "      <td>48347.69</td>\n",
       "      <td>47468.49</td>\n",
       "      <td>47669.02</td>\n",
       "    </tr>\n",
       "    <tr>\n",
       "      <th>2021-10-03</th>\n",
       "      <td>47669.02</td>\n",
       "      <td>49185.34</td>\n",
       "      <td>47137.07</td>\n",
       "      <td>48234.05</td>\n",
       "    </tr>\n",
       "    <tr>\n",
       "      <th>2021-10-04</th>\n",
       "      <td>48234.05</td>\n",
       "      <td>49501.21</td>\n",
       "      <td>46944.28</td>\n",
       "      <td>49276.91</td>\n",
       "    </tr>\n",
       "    <tr>\n",
       "      <th>2021-10-05</th>\n",
       "      <td>49276.91</td>\n",
       "      <td>51885.03</td>\n",
       "      <td>49087.72</td>\n",
       "      <td>51504.27</td>\n",
       "    </tr>\n",
       "    <tr>\n",
       "      <th>...</th>\n",
       "      <td>...</td>\n",
       "      <td>...</td>\n",
       "      <td>...</td>\n",
       "      <td>...</td>\n",
       "    </tr>\n",
       "    <tr>\n",
       "      <th>2022-01-04</th>\n",
       "      <td>46450.79</td>\n",
       "      <td>47529.48</td>\n",
       "      <td>45587.91</td>\n",
       "      <td>45824.54</td>\n",
       "    </tr>\n",
       "    <tr>\n",
       "      <th>2022-01-05</th>\n",
       "      <td>45824.54</td>\n",
       "      <td>47067.18</td>\n",
       "      <td>42510.86</td>\n",
       "      <td>43432.51</td>\n",
       "    </tr>\n",
       "    <tr>\n",
       "      <th>2022-01-06</th>\n",
       "      <td>43432.51</td>\n",
       "      <td>43779.23</td>\n",
       "      <td>42468.76</td>\n",
       "      <td>43094.54</td>\n",
       "    </tr>\n",
       "    <tr>\n",
       "      <th>2022-01-07</th>\n",
       "      <td>43094.54</td>\n",
       "      <td>43138.79</td>\n",
       "      <td>40750.42</td>\n",
       "      <td>41543.79</td>\n",
       "    </tr>\n",
       "    <tr>\n",
       "      <th>2022-01-08</th>\n",
       "      <td>41543.79</td>\n",
       "      <td>42229.62</td>\n",
       "      <td>41481.67</td>\n",
       "      <td>41633.48</td>\n",
       "    </tr>\n",
       "  </tbody>\n",
       "</table>\n",
       "<p>100 rows × 4 columns</p>\n",
       "</div>"
      ],
      "text/plain": [
       "                open      high       low     close\n",
       "time                                              \n",
       "2021-10-01  43829.34  48470.13  43304.82  48164.35\n",
       "2021-10-02  48164.35  48347.69  47468.49  47669.02\n",
       "2021-10-03  47669.02  49185.34  47137.07  48234.05\n",
       "2021-10-04  48234.05  49501.21  46944.28  49276.91\n",
       "2021-10-05  49276.91  51885.03  49087.72  51504.27\n",
       "...              ...       ...       ...       ...\n",
       "2022-01-04  46450.79  47529.48  45587.91  45824.54\n",
       "2022-01-05  45824.54  47067.18  42510.86  43432.51\n",
       "2022-01-06  43432.51  43779.23  42468.76  43094.54\n",
       "2022-01-07  43094.54  43138.79  40750.42  41543.79\n",
       "2022-01-08  41543.79  42229.62  41481.67  41633.48\n",
       "\n",
       "[100 rows x 4 columns]"
      ]
     },
     "execution_count": 8,
     "metadata": {},
     "output_type": "execute_result"
    }
   ],
   "source": [
    "split_row = len(hist) - int(0.2 * len(hist))\n",
    "# split_row\n",
    "\n",
    "train_data = hist.iloc[:split_row]\n",
    "test_data = hist.iloc[split_row:]\n",
    "\n",
    "# train_data\n",
    "test_data"
   ]
  },
  {
   "cell_type": "code",
   "execution_count": 9,
   "id": "f25ce87c",
   "metadata": {},
   "outputs": [],
   "source": [
    "train, test = train_test_split(hist, test_size=0.2)"
   ]
  },
  {
   "cell_type": "code",
   "execution_count": 10,
   "id": "2efb033e",
   "metadata": {},
   "outputs": [],
   "source": [
    "def line_plot(line1, line2, label1=None, label2=None, title='', lw=2):\n",
    "    fig, ax = plt.subplots(1, figsize=(13, 7))\n",
    "    ax.plot(line1, label=label1, linewidth=lw)\n",
    "    ax.plot(line2, label=label2, linewidth=lw)\n",
    "    ax.set_ylabel('price [CAD]', fontsize=14)\n",
    "    ax.set_title(title, fontsize=16)\n",
    "    ax.legend(loc='best', fontsize=16);"
   ]
  },
  {
   "cell_type": "code",
   "execution_count": 11,
   "id": "97b60a71",
   "metadata": {},
   "outputs": [
    {
     "data": {
      "image/png": "[encoded data removed]",
      "text/plain": [
       "<Figure size 936x504 with 1 Axes>"
      ]
     },
     "metadata": {
      "needs_background": "light"
     },
     "output_type": "display_data"
    }
   ],
   "source": [
    "line_plot(train[target_col], test[target_col], 'training', 'test', title='')"
   ]
  },
  {
   "cell_type": "code",
   "execution_count": 12,
   "id": "668683cb",
   "metadata": {},
   "outputs": [],
   "source": [
    "def normalise_zero_base(df):\n",
    "    return df / df.iloc[0] - 1\n",
    "\n",
    "def normalise_min_max(df):\n",
    "    return (df - df.min()) / (data.max() - df.min())"
   ]
  },
  {
   "cell_type": "code",
   "execution_count": 13,
   "id": "c709a6e0",
   "metadata": {},
   "outputs": [
    {
     "data": {
      "text/plain": [
       "open     float64\n",
       "high     float64\n",
       "low      float64\n",
       "close    float64\n",
       "dtype: object"
      ]
     },
     "execution_count": 13,
     "metadata": {},
     "output_type": "execute_result"
    }
   ],
   "source": [
    "hist.dtypes"
   ]
  },
  {
   "cell_type": "code",
   "execution_count": 14,
   "id": "45f0bb62",
   "metadata": {},
   "outputs": [],
   "source": [
    "def extract_window_data(df, window_len=5, zero_base=True):\n",
    "    window_data = []\n",
    "    for idx in range(len(df) - window_len):\n",
    "        tmp = df[idx: (idx + window_len)].copy()\n",
    "        if zero_base:\n",
    "            tmp = normalise_zero_base(tmp)\n",
    "        window_data.append(tmp.values)\n",
    "    return np.array(window_data)"
   ]
  },
  {
   "cell_type": "code",
   "execution_count": null,
   "id": "3dc5cb22",
   "metadata": {},
   "outputs": [],
   "source": []
  },
  {
   "cell_type": "code",
   "execution_count": 15,
   "id": "209e8de0",
   "metadata": {},
   "outputs": [],
   "source": [
    "def prepare_data(df, target_col, window_len=10, zero_base=True, test_size=0.2):\n",
    "    train_data, test_data = train_test_split(df, test_size=test_size)\n",
    "    X_train = extract_window_data(train_data, window_len, zero_base)\n",
    "    X_test = extract_window_data(test_data, window_len, zero_base)\n",
    "    y_train = train_data[target_col][window_len:].values\n",
    "    y_test = test_data[target_col][window_len:].values\n",
    "    if zero_base:\n",
    "        y_train = y_train / train_data[target_col][:-window_len].values - 1\n",
    "        y_test = y_test / test_data[target_col][:-window_len].values - 1\n",
    "\n",
    "    return train_data, test_data, X_train, X_test, y_train, y_test"
   ]
  },
  {
   "cell_type": "code",
   "execution_count": 16,
   "id": "4d246580",
   "metadata": {},
   "outputs": [],
   "source": [
    "def build_lstm_model(input_data, output_size, neurons=100, activ_func='linear',\n",
    "                     dropout=0.2, loss='mse', optimizer='adam'):\n",
    "    model = Sequential()\n",
    "    model.add(LSTM(neurons, input_shape=(input_data.shape[1], input_data.shape[2])))\n",
    "    model.add(Dropout(dropout))\n",
    "    model.add(Dense(units=output_size))\n",
    "    model.add(Activation(activ_func))\n",
    "\n",
    "    model.compile(loss=loss, optimizer=optimizer)\n",
    "    return model"
   ]
  },
  {
   "cell_type": "code",
   "execution_count": 17,
   "id": "c1a4a3c5",
   "metadata": {},
   "outputs": [],
   "source": [
    "np.random.seed(42)\n",
    "window_len = 5\n",
    "test_size = 0.2\n",
    "zero_base = True\n",
    "lstm_neurons = 100\n",
    "epochs = 20\n",
    "batch_size = 32\n",
    "loss = 'mse'\n",
    "dropout = 0.2\n",
    "optimizer = 'adam'"
   ]
  },
  {
   "cell_type": "code",
   "execution_count": 18,
   "id": "ab2a1d17",
   "metadata": {},
   "outputs": [],
   "source": [
    "train, test, X_train, X_test, y_train, y_test = prepare_data(\n",
    "    hist, target_col, window_len=window_len, zero_base=zero_base, test_size=test_size)"
   ]
  },
  {
   "cell_type": "code",
   "execution_count": 19,
   "id": "654886a0",
   "metadata": {},
   "outputs": [
    {
     "name": "stdout",
     "output_type": "stream",
     "text": [
      "Epoch 1/20\n",
      "13/13 [==============================] - 2s 3ms/step - loss: 0.0064\n",
      "Epoch 2/20\n",
      "13/13 [==============================] - 0s 3ms/step - loss: 0.0040\n",
      "Epoch 3/20\n",
      "13/13 [==============================] - 0s 3ms/step - loss: 0.0036\n",
      "Epoch 4/20\n",
      "13/13 [==============================] - 0s 3ms/step - loss: 0.0031\n",
      "Epoch 5/20\n",
      "13/13 [==============================] - 0s 3ms/step - loss: 0.0029\n",
      "Epoch 6/20\n",
      "13/13 [==============================] - 0s 2ms/step - loss: 0.0028\n",
      "Epoch 7/20\n",
      "13/13 [==============================] - 0s 3ms/step - loss: 0.0026\n",
      "Epoch 8/20\n",
      "13/13 [==============================] - 0s 3ms/step - loss: 0.0026\n",
      "Epoch 9/20\n",
      "13/13 [==============================] - 0s 3ms/step - loss: 0.0025\n",
      "Epoch 10/20\n",
      "13/13 [==============================] - 0s 2ms/step - loss: 0.0024\n",
      "Epoch 11/20\n",
      "13/13 [==============================] - 0s 3ms/step - loss: 0.0023\n",
      "Epoch 12/20\n",
      "13/13 [==============================] - 0s 2ms/step - loss: 0.0023\n",
      "Epoch 13/20\n",
      "13/13 [==============================] - 0s 2ms/step - loss: 0.0022\n",
      "Epoch 14/20\n",
      "13/13 [==============================] - 0s 3ms/step - loss: 0.0021\n",
      "Epoch 15/20\n",
      "13/13 [==============================] - 0s 3ms/step - loss: 0.0022\n",
      "Epoch 16/20\n",
      "13/13 [==============================] - 0s 3ms/step - loss: 0.0021\n",
      "Epoch 17/20\n",
      "13/13 [==============================] - 0s 3ms/step - loss: 0.0020\n",
      "Epoch 18/20\n",
      "13/13 [==============================] - 0s 3ms/step - loss: 0.0021\n",
      "Epoch 19/20\n",
      "13/13 [==============================] - 0s 3ms/step - loss: 0.0021\n",
      "Epoch 20/20\n",
      "13/13 [==============================] - 0s 3ms/step - loss: 0.0020\n"
     ]
    }
   ],
   "source": [
    "model = build_lstm_model(\n",
    "    X_train, output_size=1, neurons=lstm_neurons, dropout=dropout, loss=loss,\n",
    "    optimizer=optimizer)\n",
    "history = model.fit(\n",
    "    X_train, y_train, epochs=epochs, batch_size=batch_size, verbose=1, shuffle=True)"
   ]
  },
  {
   "cell_type": "code",
   "execution_count": 20,
   "id": "bd46ceeb",
   "metadata": {},
   "outputs": [
    {
     "data": {
      "text/plain": [
       "0.027543694404230146"
      ]
     },
     "execution_count": 20,
     "metadata": {},
     "output_type": "execute_result"
    }
   ],
   "source": [
    "targets = test[target_col][window_len:]\n",
    "preds = model.predict(X_test).squeeze()\n",
    "mean_absolute_error(preds, y_test)"
   ]
  },
  {
   "cell_type": "code",
   "execution_count": 21,
   "id": "62cf905e",
   "metadata": {},
   "outputs": [
    {
     "data": {
      "image/png": "[encoded data removed]",
      "text/plain": [
       "<Figure size 936x504 with 1 Axes>"
      ]
     },
     "metadata": {
      "needs_background": "light"
     },
     "output_type": "display_data"
    }
   ],
   "source": [
    "preds = test[target_col].values[:-window_len] * (preds + 1)\n",
    "preds = pd.Series(index=targets.index, data=preds)\n",
    "line_plot(targets, preds, 'actual', 'prediction', lw=3)"
   ]
  },
  {
   "cell_type": "code",
   "execution_count": null,
   "id": "8ef1a7e7",
   "metadata": {},
   "outputs": [],
   "source": []
  }
 ],
 "metadata": {
  "kernelspec": {
   "display_name": "venv",
   "language": "python",
   "name": "venv"
  },
  "language_info": {
   "codemirror_mode": {
    "name": "ipython",
    "version": 3
   },
   "file_extension": ".py",
   "mimetype": "text/x-python",
   "name": "python",
   "nbconvert_exporter": "python",
   "pygments_lexer": "ipython3",
   "version": "3.9.5"
  }
 },
 "nbformat": 4,
 "nbformat_minor": 5
}
